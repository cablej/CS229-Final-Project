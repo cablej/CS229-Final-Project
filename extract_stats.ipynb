{
 "cells": [
  {
   "cell_type": "code",
   "execution_count": 1,
   "metadata": {},
   "outputs": [],
   "source": [
    "\n",
    "from sklearn import model_selection, preprocessing, linear_model, naive_bayes, metrics, svm\n",
    "from sklearn.feature_extraction.text import TfidfVectorizer, CountVectorizer\n",
    "from sklearn import decomposition, ensemble\n",
    "from sklearn.feature_extraction import text\n",
    "\n",
    "import seaborn as sns\n",
    "import matplotlib.pyplot as plt; plt.rcdefaults()\n",
    "\n",
    "import pandas, numpy as np, textblob, string\n",
    "from sklearn.utils import shuffle\n",
    "\n",
    "import warnings"
   ]
  },
  {
   "cell_type": "code",
   "execution_count": 2,
   "metadata": {},
   "outputs": [
    {
     "ename": "NameError",
     "evalue": "name 'labels' is not defined",
     "output_type": "error",
     "traceback": [
      "\u001b[0;31m---------------------------------------------------------------------------\u001b[0m",
      "\u001b[0;31mNameError\u001b[0m                                 Traceback (most recent call last)",
      "\u001b[0;32m<ipython-input-2-b64443f7d95c>\u001b[0m in \u001b[0;36m<module>\u001b[0;34m\u001b[0m\n\u001b[1;32m     23\u001b[0m     \u001b[0mnneg\u001b[0m \u001b[0;34m+=\u001b[0m \u001b[0;36m1\u001b[0m\u001b[0;34m\u001b[0m\u001b[0;34m\u001b[0m\u001b[0m\n\u001b[1;32m     24\u001b[0m \u001b[0;34m\u001b[0m\u001b[0m\n\u001b[0;32m---> 25\u001b[0;31m \u001b[0mprint\u001b[0m\u001b[0;34m(\u001b[0m\u001b[0;34m'Total number of datapoints: '\u001b[0m\u001b[0;34m,\u001b[0m \u001b[0mlen\u001b[0m\u001b[0;34m(\u001b[0m\u001b[0mlabels\u001b[0m\u001b[0;34m)\u001b[0m\u001b[0;34m)\u001b[0m\u001b[0;34m\u001b[0m\u001b[0;34m\u001b[0m\u001b[0m\n\u001b[0m\u001b[1;32m     26\u001b[0m \u001b[0mprint\u001b[0m\u001b[0;34m(\u001b[0m\u001b[0;34m'Positive labels: '\u001b[0m\u001b[0;34m,\u001b[0m \u001b[0mnpos\u001b[0m\u001b[0;34m)\u001b[0m\u001b[0;34m\u001b[0m\u001b[0;34m\u001b[0m\u001b[0m\n\u001b[1;32m     27\u001b[0m \u001b[0mprint\u001b[0m\u001b[0;34m(\u001b[0m\u001b[0;34m'Negative labels: '\u001b[0m\u001b[0;34m,\u001b[0m \u001b[0mnneg\u001b[0m\u001b[0;34m)\u001b[0m\u001b[0;34m\u001b[0m\u001b[0;34m\u001b[0m\u001b[0m\n",
      "\u001b[0;31mNameError\u001b[0m: name 'labels' is not defined"
     ]
    }
   ],
   "source": [
    "\n",
    "# load positive labels\n",
    "pos = open('data/IRAhandle_tweets_1.csv').read()\n",
    "npos = 0\n",
    "poslabels, postexts = [], []\n",
    "for i, line in enumerate(pos.split(\"\\n\")):\n",
    "    content = line.split(',')\n",
    "    if len(content) < 4:\n",
    "    \tcontinue;\n",
    "    if content[4] != \"English\":\n",
    "    \tcontinue;\n",
    "    poslabels.append(1)\n",
    "    postexts.append(content[2])\n",
    "    npos += 1\n",
    "\n",
    "# load negative labels (random tweets)\n",
    "neglabels, negtexts = [], []\n",
    "neg = open('data/tweets-2016-10000-textonly.txt').read()\n",
    "nneg = 0\n",
    "for i, line in enumerate(neg.split(\"\\n\")):\n",
    "    neglabels.append(0)\n",
    "    negtexts.append(line)\n",
    "    nneg += 1\n",
    "\n",
    "print('Total number of datapoints: ', len(labels))\n",
    "print('Positive labels: ', npos)\n",
    "print('Negative labels: ', nneg)\n"
   ]
  },
  {
   "cell_type": "code",
   "execution_count": null,
   "metadata": {},
   "outputs": [],
   "source": [
    "def plot_common(texts, type):\n",
    "    stop_words = text.ENGLISH_STOP_WORDS.union([\"http\", \"https\", \"amp\", \"amb\"])\n",
    "\n",
    "    count_vect = CountVectorizer(analyzer='word', token_pattern=r'\\w{1,}', stop_words = stop_words)\n",
    "    count_vect.fit(texts)\n",
    "\n",
    "    bag_of_words = count_vect.transform(texts)\n",
    "    sum_words = bag_of_words.sum(axis=0)\n",
    "    words_freq = [(word, sum_words[0, idx]) for word, idx in count_vect.vocabulary_.items()]\n",
    "    words_freq = [w for w in words_freq if len(w[0]) > 2]\n",
    "    words_freq = sorted(words_freq, key = lambda x: x[1], reverse=True)\n",
    "\n",
    "    freqs = words_freq[:20]\n",
    "\n",
    "    words = [x[0] for x in freqs]\n",
    "    y_pos = np.arange(len(freqs))\n",
    "    counts = [x[1] for x in freqs]\n",
    "\n",
    "    plt.bar(y_pos, counts, align='center', alpha=0.75)\n",
    "    plt.xticks(y_pos, words, rotation='90')\n",
    "    plt.ylabel('Count')\n",
    "    plt.title('Most common words: ' + type + ' labels')\n",
    "\n",
    "    plt.show()"
   ]
  },
  {
   "cell_type": "code",
   "execution_count": null,
   "metadata": {},
   "outputs": [],
   "source": [
    "plot_common(postexts, \"positive\")"
   ]
  },
  {
   "cell_type": "code",
   "execution_count": null,
   "metadata": {},
   "outputs": [],
   "source": [
    "plot_common(negtexts, \"negative\")"
   ]
  },
  {
   "cell_type": "code",
   "execution_count": 8,
   "metadata": {},
   "outputs": [
    {
     "data": {
      "image/png": "[encoded data removed]",
      "text/plain": [
       "<Figure size 432x288 with 1 Axes>"
      ]
     },
     "metadata": {
      "needs_background": "light"
     },
     "output_type": "display_data"
    }
   ],
   "source": [
    "freqs = [('officer', -3.8469833031772724),\n",
    "('say', -3.8469833031772724),\n",
    "('blc', -3.864077736536573),\n",
    "('4mysquad', -3.881469479248442),\n",
    "('right', -3.881469479248442),\n",
    "('video', -3.8991690563478425),\n",
    "('know', -3.917187561850521),\n",
    "('bae', -3.9355367005187176),\n",
    "('blackpower', -3.9355367005187176),\n",
    "('realdonaldtrump', -3.9542288335308697),\n",
    "('killed', -4.012497741654846),\n",
    "('shooting', -4.053319736175101),\n",
    "('stop', -4.053319736175101),\n",
    "('thank', -4.053319736175101),\n",
    "('wanna', -4.074373145372934),\n",
    "('racist', -4.095879350593897),\n",
    "('time', -4.095879350593897),\n",
    "('love', -4.1178582573126725),\n",
    "('blackpeopleproblems', -4.140331113164731),\n",
    "('fuck', -4.140331113164731)]\n",
    "\n",
    "words = [x[0] for x in freqs]\n",
    "y_pos = np.arange(len(freqs))\n",
    "counts = [np.exp(-x[1]) for x in freqs]\n",
    "\n",
    "plt.bar(y_pos, counts, align='center', alpha=0.75)\n",
    "plt.xticks(y_pos, words, rotation='90')\n",
    "plt.ylabel('Negative Log likelihood difference')\n",
    "plt.title('Most indicative words for positive labels')\n",
    "\n",
    "plt.show()"
   ]
  },
  {
   "cell_type": "code",
   "execution_count": null,
   "metadata": {},
   "outputs": [],
   "source": []
  },
  {
   "cell_type": "code",
   "execution_count": null,
   "metadata": {},
   "outputs": [],
   "source": []
  }
 ],
 "metadata": {
  "kernelspec": {
   "display_name": "Python 3",
   "language": "python",
   "name": "python3"
  },
  "language_info": {
   "codemirror_mode": {
    "name": "ipython",
    "version": 3
   },
   "file_extension": ".py",
   "mimetype": "text/x-python",
   "name": "python",
   "nbconvert_exporter": "python",
   "pygments_lexer": "ipython3",
   "version": "3.7.3"
  }
 },
 "nbformat": 4,
 "nbformat_minor": 2
}
