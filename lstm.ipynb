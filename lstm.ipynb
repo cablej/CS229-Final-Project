{
 "cells": [
  {
   "cell_type": "code",
   "execution_count": 19,
   "metadata": {
    "_uuid": "d6fb32fd69316596e236eab5fb8cf77c848508c3"
   },
   "outputs": [],
   "source": [
    "# implementation partly follows https://www.kaggle.com/kredy10/simple-lstm-for-text-classification/data\n",
    "\n",
    "import pandas as pd\n",
    "import numpy as np\n",
    "import matplotlib.pyplot as plt\n",
    "import seaborn as sns\n",
    "from sklearn.model_selection import train_test_split\n",
    "from sklearn.preprocessing import LabelEncoder\n",
    "import keras\n",
    "from keras.models import Model\n",
    "from keras.layers import LSTM, Activation, Dense, Dropout, Input, Embedding\n",
    "from keras.optimizers import RMSprop\n",
    "from keras.preprocessing.text import Tokenizer\n",
    "from keras.preprocessing import sequence\n",
    "from keras.utils import to_categorical\n",
    "from keras.callbacks import EarlyStopping\n",
    "from sklearn.utils import shuffle\n",
    "%matplotlib inline"
   ]
  },
  {
   "cell_type": "code",
   "execution_count": 20,
   "metadata": {},
   "outputs": [
    {
     "name": "stdout",
     "output_type": "stream",
     "text": [
      "Total number of datapoints:  12514\n",
      "Positive labels:  4541\n",
      "Negative labels:  7973\n"
     ]
    },
    {
     "data": {
      "text/html": [
       "<div>\n",
       "<style scoped>\n",
       "    .dataframe tbody tr th:only-of-type {\n",
       "        vertical-align: middle;\n",
       "    }\n",
       "\n",
       "    .dataframe tbody tr th {\n",
       "        vertical-align: top;\n",
       "    }\n",
       "\n",
       "    .dataframe thead th {\n",
       "        text-align: right;\n",
       "    }\n",
       "</style>\n",
       "<table border=\"1\" class=\"dataframe\">\n",
       "  <thead>\n",
       "    <tr style=\"text-align: right;\">\n",
       "      <th></th>\n",
       "      <th>text</th>\n",
       "      <th>label</th>\n",
       "    </tr>\n",
       "  </thead>\n",
       "  <tbody>\n",
       "    <tr>\n",
       "      <th>0</th>\n",
       "      <td>I liked a @YouTube video https://t.co/NzBhCe0A...</td>\n",
       "      <td>0</td>\n",
       "    </tr>\n",
       "    <tr>\n",
       "      <th>1</th>\n",
       "      <td>CNN won't show it's viewers these amazing patr...</td>\n",
       "      <td>1</td>\n",
       "    </tr>\n",
       "    <tr>\n",
       "      <th>2</th>\n",
       "      <td>oh China... https://t.co/SX7DuSo7Sz</td>\n",
       "      <td>1</td>\n",
       "    </tr>\n",
       "    <tr>\n",
       "      <th>3</th>\n",
       "      <td>Virginia cops try to bully family farm over #B...</td>\n",
       "      <td>1</td>\n",
       "    </tr>\n",
       "    <tr>\n",
       "      <th>4</th>\n",
       "      <td>https://t.co/ABJx7SzsKU #linmanuelmiranda xxxx...</td>\n",
       "      <td>0</td>\n",
       "    </tr>\n",
       "  </tbody>\n",
       "</table>\n",
       "</div>"
      ],
      "text/plain": [
       "                                                text  label\n",
       "0  I liked a @YouTube video https://t.co/NzBhCe0A...      0\n",
       "1  CNN won't show it's viewers these amazing patr...      1\n",
       "2                oh China... https://t.co/SX7DuSo7Sz      1\n",
       "3  Virginia cops try to bully family farm over #B...      1\n",
       "4  https://t.co/ABJx7SzsKU #linmanuelmiranda xxxx...      0"
      ]
     },
     "execution_count": 20,
     "metadata": {},
     "output_type": "execute_result"
    }
   ],
   "source": [
    "# load positive labels\n",
    "pos = open('data/ira_10000.csv').read()\n",
    "npos = 0\n",
    "labels, texts = [], []\n",
    "for i, line in enumerate(pos.split(\"\\n\")):\n",
    "    content = line.split(',')\n",
    "    if len(content) < 4:\n",
    "    \tcontinue;\n",
    "    if content[4] != \"English\":\n",
    "    \tcontinue;\n",
    "    labels.append(1)\n",
    "    texts.append(content[2])\n",
    "    npos += 1\n",
    "\n",
    "# load negative labels (random tweets)\n",
    "neg = open('data/tweets-2016-10000-textonly.txt').read()\n",
    "nneg = 0\n",
    "for i, line in enumerate(neg.split(\"\\n\")):\n",
    "    labels.append(0)\n",
    "    texts.append(line)\n",
    "    nneg += 1\n",
    "\n",
    "texts, labels = shuffle(texts, labels)\n",
    "\n",
    "print('Total number of datapoints: ', len(labels))\n",
    "print('Positive labels: ', npos)\n",
    "print('Negative labels: ', nneg)\n",
    "\n",
    "df = pd.DataFrame()\n",
    "df['text'] = texts\n",
    "df['label'] = labels\n",
    "\n",
    "df.head()"
   ]
  },
  {
   "cell_type": "code",
   "execution_count": 21,
   "metadata": {},
   "outputs": [
    {
     "data": {
      "text/plain": [
       "Text(0.5, 1.0, 'Breakdown by label type')"
      ]
     },
     "execution_count": 21,
     "metadata": {},
     "output_type": "execute_result"
    },
    {
     "data": {
      "image/png": "[encoded data removed]",
      "text/plain": [
       "<Figure size 432x288 with 1 Axes>"
      ]
     },
     "metadata": {
      "needs_background": "light"
     },
     "output_type": "display_data"
    }
   ],
   "source": [
    "sns.countplot(df.label)\n",
    "plt.xlabel('Label')\n",
    "plt.title('Breakdown by label type')"
   ]
  },
  {
   "cell_type": "code",
   "execution_count": 22,
   "metadata": {},
   "outputs": [],
   "source": [
    "enc = LabelEncoder()\n",
    "y = enc.fit_transform(labels).reshape(-1,1)\n",
    "train_x, test_x, train_y, test_y = train_test_split(df['text'], y, test_size=0.20)\n",
    "\n",
    "# Tokenize the text. Max length 280 (may tweak)\n",
    "\n",
    "\n",
    "maxlen = 280\n",
    "maxwords = 10000\n",
    "\n",
    "token = Tokenizer(num_words=maxwords)\n",
    "token.fit_on_texts(df['text'])\n",
    "\n",
    "sequences = token.texts_to_sequences(train_x)\n",
    "padded = sequence.pad_sequences(sequences, maxlen=maxlen)\n"
   ]
  },
  {
   "cell_type": "code",
   "execution_count": 23,
   "metadata": {},
   "outputs": [
    {
     "name": "stdout",
     "output_type": "stream",
     "text": [
      "_________________________________________________________________\n",
      "Layer (type)                 Output Shape              Param #   \n",
      "=================================================================\n",
      "inputs (InputLayer)          (None, 280)               0         \n",
      "_________________________________________________________________\n",
      "embedding_3 (Embedding)      (None, 280, 50)           500000    \n",
      "_________________________________________________________________\n",
      "lstm_3 (LSTM)                (None, 64)                29440     \n",
      "_________________________________________________________________\n",
      "FC1 (Dense)                  (None, 256)               16640     \n",
      "_________________________________________________________________\n",
      "activation_5 (Activation)    (None, 256)               0         \n",
      "_________________________________________________________________\n",
      "dropout_3 (Dropout)          (None, 256)               0         \n",
      "_________________________________________________________________\n",
      "out_layer (Dense)            (None, 1)                 257       \n",
      "_________________________________________________________________\n",
      "activation_6 (Activation)    (None, 1)                 0         \n",
      "=================================================================\n",
      "Total params: 546,337\n",
      "Trainable params: 546,337\n",
      "Non-trainable params: 0\n",
      "_________________________________________________________________\n"
     ]
    }
   ],
   "source": [
    "def make_rnn():\n",
    "    inputs = Input(name='inputs',shape=[maxlen])\n",
    "    layer = Embedding(maxwords,50,input_length=maxlen)(inputs)\n",
    "    layer = LSTM(64)(layer)\n",
    "    layer = Dense(256,name='FC1')(layer)\n",
    "    layer = Activation('relu')(layer)\n",
    "    layer = Dropout(0.5)(layer)\n",
    "    layer = Dense(1,name='out_layer')(layer)\n",
    "    layer = Activation('sigmoid')(layer)\n",
    "    model = Model(inputs=inputs,outputs=layer)\n",
    "    return model\n",
    "\n",
    "model = make_rnn()\n",
    "model.summary()\n",
    "model.compile(loss='binary_crossentropy',optimizer=RMSprop(),metrics=['accuracy'])\n"
   ]
  },
  {
   "cell_type": "code",
   "execution_count": null,
   "metadata": {},
   "outputs": [
    {
     "name": "stdout",
     "output_type": "stream",
     "text": [
      "Train on 8008 samples, validate on 2003 samples\n",
      "Epoch 1/10\n",
      "8008/8008 [==============================] - 24s 3ms/step - loss: 0.6431 - acc: 0.7958 - val_loss: 0.2415 - val_acc: 0.8837\n",
      "Epoch 2/10\n",
      "8008/8008 [==============================] - 22s 3ms/step - loss: 0.1416 - acc: 0.9456 - val_loss: 0.1239 - val_acc: 0.9506\n",
      "Epoch 3/10\n",
      "8008/8008 [==============================] - 23s 3ms/step - loss: 0.0871 - acc: 0.9719 - val_loss: 0.1059 - val_acc: 0.9591\n",
      "Epoch 4/10\n",
      "8008/8008 [==============================] - 27s 3ms/step - loss: 0.0652 - acc: 0.9779 - val_loss: 0.1139 - val_acc: 0.9636\n",
      "Epoch 5/10\n",
      "1024/8008 [==>...........................] - ETA: 25s - loss: 0.0426 - acc: 0.9834"
     ]
    }
   ],
   "source": [
    "history = model.fit(padded,train_y,batch_size=128,epochs=10,\n",
    "          validation_split=0.2,callbacks=[])"
   ]
  },
  {
   "cell_type": "code",
   "execution_count": 15,
   "metadata": {},
   "outputs": [
    {
     "name": "stdout",
     "output_type": "stream",
     "text": [
      "2503/2503 [==============================] - 3s 1ms/step\n",
      "Test loss:  0.15382436748342518\n",
      "Test accuracy:  0.9332800639471053\n"
     ]
    }
   ],
   "source": [
    "test_sequences = token.texts_to_sequences(test_x)\n",
    "test_padded = sequence.pad_sequences(test_sequences,maxlen=maxlen)\n",
    "\n",
    "accuracy = model.evaluate(test_padded, test_y)\n",
    "print('Test loss: ', accuracy[0])\n",
    "print('Test accuracy: ', accuracy[1])\n",
    "\n"
   ]
  },
  {
   "cell_type": "code",
   "execution_count": 17,
   "metadata": {},
   "outputs": [
    {
     "data": {
      "image/png": "[encoded data removed]",
      "text/plain": [
       "<Figure size 432x288 with 1 Axes>"
      ]
     },
     "metadata": {
      "needs_background": "light"
     },
     "output_type": "display_data"
    },
    {
     "data": {
      "image/png": "[encoded data removed]",
      "text/plain": [
       "<Figure size 432x288 with 1 Axes>"
      ]
     },
     "metadata": {
      "needs_background": "light"
     },
     "output_type": "display_data"
    }
   ],
   "source": [
    "# Plot training & validation accuracy values\n",
    "plt.plot(history.history['acc'])\n",
    "plt.plot(history.history['val_acc'])\n",
    "plt.title('Model accuracy')\n",
    "plt.ylabel('Accuracy')\n",
    "plt.xlabel('Epoch')\n",
    "plt.legend(['Train', 'Test'], loc='upper left')\n",
    "plt.show()\n",
    "\n",
    "# Plot training & validation loss values\n",
    "plt.plot(history.history['loss'])\n",
    "plt.plot(history.history['val_loss'])\n",
    "plt.title('Model loss')\n",
    "plt.ylabel('Loss')\n",
    "plt.xlabel('Epoch')\n",
    "plt.legend(['Train', 'Test'], loc='upper left')\n",
    "plt.show()"
   ]
  },
  {
   "cell_type": "code",
   "execution_count": null,
   "metadata": {},
   "outputs": [],
   "source": []
  }
 ],
 "metadata": {
  "kernelspec": {
   "display_name": "Python 3",
   "language": "python",
   "name": "python3"
  },
  "language_info": {
   "codemirror_mode": {
    "name": "ipython",
    "version": 3
   },
   "file_extension": ".py",
   "mimetype": "text/x-python",
   "name": "python",
   "nbconvert_exporter": "python",
   "pygments_lexer": "ipython3",
   "version": "3.7.3"
  }
 },
 "nbformat": 4,
 "nbformat_minor": 1
}
